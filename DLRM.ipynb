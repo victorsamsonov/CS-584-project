{
 "cells": [
  {
   "cell_type": "code",
   "execution_count": 1,
   "id": "193d4a69",
   "metadata": {},
   "outputs": [],
   "source": [
    "import pandas as pd\n",
    "import tensorflow as tf\n",
    "import keras\n",
    "import numpy as np\n",
    "from sklearn.model_selection import train_test_split\n",
    "from sklearn.metrics import mean_absolute_error\n",
    "from sklearn.preprocessing import LabelEncoder, StandardScaler\n",
    "from keras.models import Model\n",
    "from keras.layers import Dense, Input, Embedding, Concatenate, Flatten\n",
    "import matplotlib.pyplot as plt"
   ]
  },
  {
   "cell_type": "code",
   "execution_count": 2,
   "id": "2fec89b4",
   "metadata": {},
   "outputs": [],
   "source": [
    "ratings = pd.read_csv('ratings_small.csv').sample(frac=1, random_state=42)\n",
    "movies = pd.read_csv('movies_small.csv').sample(frac=1, random_state=42)\n",
    "df = pd.merge(movies, ratings, on=['movieId', 'movieId'], how='inner')"
   ]
  },
  {
   "cell_type": "code",
   "execution_count": 3,
   "id": "fba08255",
   "metadata": {
    "scrolled": true
   },
   "outputs": [
    {
     "data": {
      "text/html": [
       "<div>\n",
       "<style scoped>\n",
       "    .dataframe tbody tr th:only-of-type {\n",
       "        vertical-align: middle;\n",
       "    }\n",
       "\n",
       "    .dataframe tbody tr th {\n",
       "        vertical-align: top;\n",
       "    }\n",
       "\n",
       "    .dataframe thead th {\n",
       "        text-align: right;\n",
       "    }\n",
       "</style>\n",
       "<table border=\"1\" class=\"dataframe\">\n",
       "  <thead>\n",
       "    <tr style=\"text-align: right;\">\n",
       "      <th></th>\n",
       "      <th>movieId</th>\n",
       "      <th>title</th>\n",
       "      <th>genres</th>\n",
       "      <th>userId</th>\n",
       "      <th>rating</th>\n",
       "      <th>timestamp</th>\n",
       "    </tr>\n",
       "  </thead>\n",
       "  <tbody>\n",
       "    <tr>\n",
       "      <th>0</th>\n",
       "      <td>45635</td>\n",
       "      <td>Notorious Bettie Page, The (2005)</td>\n",
       "      <td>Drama</td>\n",
       "      <td>414</td>\n",
       "      <td>3.0</td>\n",
       "      <td>1216149238</td>\n",
       "    </tr>\n",
       "    <tr>\n",
       "      <th>1</th>\n",
       "      <td>45635</td>\n",
       "      <td>Notorious Bettie Page, The (2005)</td>\n",
       "      <td>Drama</td>\n",
       "      <td>474</td>\n",
       "      <td>3.0</td>\n",
       "      <td>1165540175</td>\n",
       "    </tr>\n",
       "    <tr>\n",
       "      <th>2</th>\n",
       "      <td>1373</td>\n",
       "      <td>Star Trek V: The Final Frontier (1989)</td>\n",
       "      <td>Action|Sci-Fi</td>\n",
       "      <td>288</td>\n",
       "      <td>2.5</td>\n",
       "      <td>1088172808</td>\n",
       "    </tr>\n",
       "    <tr>\n",
       "      <th>3</th>\n",
       "      <td>1373</td>\n",
       "      <td>Star Trek V: The Final Frontier (1989)</td>\n",
       "      <td>Action|Sci-Fi</td>\n",
       "      <td>294</td>\n",
       "      <td>3.0</td>\n",
       "      <td>966634266</td>\n",
       "    </tr>\n",
       "    <tr>\n",
       "      <th>4</th>\n",
       "      <td>1373</td>\n",
       "      <td>Star Trek V: The Final Frontier (1989)</td>\n",
       "      <td>Action|Sci-Fi</td>\n",
       "      <td>19</td>\n",
       "      <td>1.0</td>\n",
       "      <td>965703973</td>\n",
       "    </tr>\n",
       "  </tbody>\n",
       "</table>\n",
       "</div>"
      ],
      "text/plain": [
       "   movieId                                   title         genres  userId  \\\n",
       "0    45635       Notorious Bettie Page, The (2005)          Drama     414   \n",
       "1    45635       Notorious Bettie Page, The (2005)          Drama     474   \n",
       "2     1373  Star Trek V: The Final Frontier (1989)  Action|Sci-Fi     288   \n",
       "3     1373  Star Trek V: The Final Frontier (1989)  Action|Sci-Fi     294   \n",
       "4     1373  Star Trek V: The Final Frontier (1989)  Action|Sci-Fi      19   \n",
       "\n",
       "   rating   timestamp  \n",
       "0     3.0  1216149238  \n",
       "1     3.0  1165540175  \n",
       "2     2.5  1088172808  \n",
       "3     3.0   966634266  \n",
       "4     1.0   965703973  "
      ]
     },
     "execution_count": 3,
     "metadata": {},
     "output_type": "execute_result"
    }
   ],
   "source": [
    "df.head()"
   ]
  },
  {
   "cell_type": "code",
   "execution_count": 4,
   "id": "f637b6a0",
   "metadata": {},
   "outputs": [],
   "source": [
    "COLS = ['movieId', 'title', 'genres', 'userId', 'rating']"
   ]
  },
  {
   "cell_type": "code",
   "execution_count": 5,
   "id": "ba61c66c",
   "metadata": {},
   "outputs": [
    {
     "data": {
      "text/html": [
       "<div>\n",
       "<style scoped>\n",
       "    .dataframe tbody tr th:only-of-type {\n",
       "        vertical-align: middle;\n",
       "    }\n",
       "\n",
       "    .dataframe tbody tr th {\n",
       "        vertical-align: top;\n",
       "    }\n",
       "\n",
       "    .dataframe thead th {\n",
       "        text-align: right;\n",
       "    }\n",
       "</style>\n",
       "<table border=\"1\" class=\"dataframe\">\n",
       "  <thead>\n",
       "    <tr style=\"text-align: right;\">\n",
       "      <th></th>\n",
       "      <th>movieId</th>\n",
       "      <th>userId</th>\n",
       "      <th>rating</th>\n",
       "    </tr>\n",
       "  </thead>\n",
       "  <tbody>\n",
       "    <tr>\n",
       "      <th>count</th>\n",
       "      <td>100836.000000</td>\n",
       "      <td>100836.000000</td>\n",
       "      <td>100836.000000</td>\n",
       "    </tr>\n",
       "    <tr>\n",
       "      <th>mean</th>\n",
       "      <td>19435.295718</td>\n",
       "      <td>326.127564</td>\n",
       "      <td>3.501557</td>\n",
       "    </tr>\n",
       "    <tr>\n",
       "      <th>std</th>\n",
       "      <td>35530.987199</td>\n",
       "      <td>182.618491</td>\n",
       "      <td>1.042529</td>\n",
       "    </tr>\n",
       "    <tr>\n",
       "      <th>min</th>\n",
       "      <td>1.000000</td>\n",
       "      <td>1.000000</td>\n",
       "      <td>0.500000</td>\n",
       "    </tr>\n",
       "    <tr>\n",
       "      <th>25%</th>\n",
       "      <td>1199.000000</td>\n",
       "      <td>177.000000</td>\n",
       "      <td>3.000000</td>\n",
       "    </tr>\n",
       "    <tr>\n",
       "      <th>50%</th>\n",
       "      <td>2991.000000</td>\n",
       "      <td>325.000000</td>\n",
       "      <td>3.500000</td>\n",
       "    </tr>\n",
       "    <tr>\n",
       "      <th>75%</th>\n",
       "      <td>8122.000000</td>\n",
       "      <td>477.000000</td>\n",
       "      <td>4.000000</td>\n",
       "    </tr>\n",
       "    <tr>\n",
       "      <th>max</th>\n",
       "      <td>193609.000000</td>\n",
       "      <td>610.000000</td>\n",
       "      <td>5.000000</td>\n",
       "    </tr>\n",
       "  </tbody>\n",
       "</table>\n",
       "</div>"
      ],
      "text/plain": [
       "             movieId         userId         rating\n",
       "count  100836.000000  100836.000000  100836.000000\n",
       "mean    19435.295718     326.127564       3.501557\n",
       "std     35530.987199     182.618491       1.042529\n",
       "min         1.000000       1.000000       0.500000\n",
       "25%      1199.000000     177.000000       3.000000\n",
       "50%      2991.000000     325.000000       3.500000\n",
       "75%      8122.000000     477.000000       4.000000\n",
       "max    193609.000000     610.000000       5.000000"
      ]
     },
     "execution_count": 5,
     "metadata": {},
     "output_type": "execute_result"
    }
   ],
   "source": [
    "df.drop(columns=['timestamp'], inplace=True)\n",
    "# df.columns = COLS\n",
    "df.describe()"
   ]
  },
  {
   "cell_type": "code",
   "execution_count": 6,
   "id": "64f43889",
   "metadata": {},
   "outputs": [
    {
     "data": {
      "text/plain": [
       "movieId      int64\n",
       "title       object\n",
       "genres      object\n",
       "userId       int64\n",
       "rating     float64\n",
       "dtype: object"
      ]
     },
     "execution_count": 6,
     "metadata": {},
     "output_type": "execute_result"
    }
   ],
   "source": [
    "df.dtypes"
   ]
  },
  {
   "cell_type": "markdown",
   "id": "f1b68f60",
   "metadata": {},
   "source": [
    "### Declare constants"
   ]
  },
  {
   "cell_type": "code",
   "execution_count": 7,
   "id": "b2d6a4d5",
   "metadata": {},
   "outputs": [],
   "source": [
    "BATCH_SIZE = 256"
   ]
  },
  {
   "cell_type": "code",
   "execution_count": 8,
   "id": "d82b0aa7",
   "metadata": {},
   "outputs": [],
   "source": [
    "N_TEST = round(len(df) * .2)   # 20% for test\n",
    "trainf, test = df.iloc[N_TEST:, :], df.iloc[:N_TEST, :]\n",
    "\n",
    "trainf_X, trainf_y = trainf.iloc[:,:-1], trainf.iloc[:,-1]\n",
    "centering_factor = trainf.rating.mean()\n",
    "trainf_y -= centering_factor\n",
    "\n",
    "test_X, test_y = test.iloc[:,:-1], test.iloc[:,-1]\n",
    "test_y -= centering_factor"
   ]
  },
  {
   "cell_type": "code",
   "execution_count": 9,
   "id": "1149e8ba",
   "metadata": {},
   "outputs": [
    {
     "data": {
      "text/plain": [
       "3.5083985173982573"
      ]
     },
     "execution_count": 9,
     "metadata": {},
     "output_type": "execute_result"
    }
   ],
   "source": [
    "centering_factor"
   ]
  },
  {
   "cell_type": "code",
   "execution_count": 10,
   "id": "0a536344",
   "metadata": {},
   "outputs": [
    {
     "data": {
      "text/html": [
       "<div>\n",
       "<style scoped>\n",
       "    .dataframe tbody tr th:only-of-type {\n",
       "        vertical-align: middle;\n",
       "    }\n",
       "\n",
       "    .dataframe tbody tr th {\n",
       "        vertical-align: top;\n",
       "    }\n",
       "\n",
       "    .dataframe thead th {\n",
       "        text-align: right;\n",
       "    }\n",
       "</style>\n",
       "<table border=\"1\" class=\"dataframe\">\n",
       "  <thead>\n",
       "    <tr style=\"text-align: right;\">\n",
       "      <th></th>\n",
       "      <th>movieId</th>\n",
       "      <th>title</th>\n",
       "      <th>genres</th>\n",
       "      <th>userId</th>\n",
       "    </tr>\n",
       "  </thead>\n",
       "  <tbody>\n",
       "    <tr>\n",
       "      <th>20167</th>\n",
       "      <td>593</td>\n",
       "      <td>Silence of the Lambs, The (1991)</td>\n",
       "      <td>Crime|Horror|Thriller</td>\n",
       "      <td>113</td>\n",
       "    </tr>\n",
       "    <tr>\n",
       "      <th>20168</th>\n",
       "      <td>593</td>\n",
       "      <td>Silence of the Lambs, The (1991)</td>\n",
       "      <td>Crime|Horror|Thriller</td>\n",
       "      <td>46</td>\n",
       "    </tr>\n",
       "    <tr>\n",
       "      <th>20169</th>\n",
       "      <td>593</td>\n",
       "      <td>Silence of the Lambs, The (1991)</td>\n",
       "      <td>Crime|Horror|Thriller</td>\n",
       "      <td>199</td>\n",
       "    </tr>\n",
       "    <tr>\n",
       "      <th>20170</th>\n",
       "      <td>593</td>\n",
       "      <td>Silence of the Lambs, The (1991)</td>\n",
       "      <td>Crime|Horror|Thriller</td>\n",
       "      <td>561</td>\n",
       "    </tr>\n",
       "    <tr>\n",
       "      <th>20171</th>\n",
       "      <td>593</td>\n",
       "      <td>Silence of the Lambs, The (1991)</td>\n",
       "      <td>Crime|Horror|Thriller</td>\n",
       "      <td>357</td>\n",
       "    </tr>\n",
       "    <tr>\n",
       "      <th>...</th>\n",
       "      <td>...</td>\n",
       "      <td>...</td>\n",
       "      <td>...</td>\n",
       "      <td>...</td>\n",
       "    </tr>\n",
       "    <tr>\n",
       "      <th>100831</th>\n",
       "      <td>1131</td>\n",
       "      <td>Jean de Florette (1986)</td>\n",
       "      <td>Drama|Mystery</td>\n",
       "      <td>547</td>\n",
       "    </tr>\n",
       "    <tr>\n",
       "      <th>100832</th>\n",
       "      <td>1131</td>\n",
       "      <td>Jean de Florette (1986)</td>\n",
       "      <td>Drama|Mystery</td>\n",
       "      <td>202</td>\n",
       "    </tr>\n",
       "    <tr>\n",
       "      <th>100833</th>\n",
       "      <td>1131</td>\n",
       "      <td>Jean de Florette (1986)</td>\n",
       "      <td>Drama|Mystery</td>\n",
       "      <td>372</td>\n",
       "    </tr>\n",
       "    <tr>\n",
       "      <th>100834</th>\n",
       "      <td>1131</td>\n",
       "      <td>Jean de Florette (1986)</td>\n",
       "      <td>Drama|Mystery</td>\n",
       "      <td>84</td>\n",
       "    </tr>\n",
       "    <tr>\n",
       "      <th>100835</th>\n",
       "      <td>74683</td>\n",
       "      <td>Mike Bassett: England Manager (2001)</td>\n",
       "      <td>Comedy</td>\n",
       "      <td>89</td>\n",
       "    </tr>\n",
       "  </tbody>\n",
       "</table>\n",
       "<p>80669 rows × 4 columns</p>\n",
       "</div>"
      ],
      "text/plain": [
       "        movieId                                 title                 genres  \\\n",
       "20167       593      Silence of the Lambs, The (1991)  Crime|Horror|Thriller   \n",
       "20168       593      Silence of the Lambs, The (1991)  Crime|Horror|Thriller   \n",
       "20169       593      Silence of the Lambs, The (1991)  Crime|Horror|Thriller   \n",
       "20170       593      Silence of the Lambs, The (1991)  Crime|Horror|Thriller   \n",
       "20171       593      Silence of the Lambs, The (1991)  Crime|Horror|Thriller   \n",
       "...         ...                                   ...                    ...   \n",
       "100831     1131               Jean de Florette (1986)          Drama|Mystery   \n",
       "100832     1131               Jean de Florette (1986)          Drama|Mystery   \n",
       "100833     1131               Jean de Florette (1986)          Drama|Mystery   \n",
       "100834     1131               Jean de Florette (1986)          Drama|Mystery   \n",
       "100835    74683  Mike Bassett: England Manager (2001)                 Comedy   \n",
       "\n",
       "        userId  \n",
       "20167      113  \n",
       "20168       46  \n",
       "20169      199  \n",
       "20170      561  \n",
       "20171      357  \n",
       "...        ...  \n",
       "100831     547  \n",
       "100832     202  \n",
       "100833     372  \n",
       "100834      84  \n",
       "100835      89  \n",
       "\n",
       "[80669 rows x 4 columns]"
      ]
     },
     "execution_count": 10,
     "metadata": {},
     "output_type": "execute_result"
    }
   ],
   "source": [
    "trainf_X"
   ]
  },
  {
   "cell_type": "code",
   "execution_count": 11,
   "id": "5b32da67",
   "metadata": {},
   "outputs": [],
   "source": [
    "# lr_schedule = tf.keras.optimizers.schedules.ExponentialDecay(\n",
    "#     0.0001,\n",
    "#     decay_steps=2000,\n",
    "#     decay_rate=0.96,\n",
    "#     staircase=True)\n"
   ]
  },
  {
   "cell_type": "code",
   "execution_count": 12,
   "id": "d47f960e",
   "metadata": {},
   "outputs": [
    {
     "name": "stdout",
     "output_type": "stream",
     "text": [
      "Model: \"DL_Recommender\"\n",
      "__________________________________________________________________________________________________\n",
      "Layer (type)                    Output Shape         Param #     Connected to                     \n",
      "==================================================================================================\n",
      "userId (InputLayer)             [(None, 1)]          0                                            \n",
      "__________________________________________________________________________________________________\n",
      "movieId (InputLayer)            [(None, 1)]          0                                            \n",
      "__________________________________________________________________________________________________\n",
      "userId_Embedding (Embedding)    (None, 1, 5)         3055        userId[0][0]                     \n",
      "__________________________________________________________________________________________________\n",
      "movieId_Embedding (Embedding)   (None, 1, 5)         968050      movieId[0][0]                    \n",
      "__________________________________________________________________________________________________\n",
      "concatenate (Concatenate)       (None, 1, 10)        0           userId_Embedding[0][0]           \n",
      "                                                                 movieId_Embedding[0][0]          \n",
      "__________________________________________________________________________________________________\n",
      "relu1 (Dense)                   (None, 1, 32)        352         concatenate[0][0]                \n",
      "__________________________________________________________________________________________________\n",
      "relu2 (Dense)                   (None, 1, 16)        528         relu1[0][0]                      \n",
      "__________________________________________________________________________________________________\n",
      "output (Dense)                  (None, 1, 1)         17          relu2[0][0]                      \n",
      "==================================================================================================\n",
      "Total params: 972,002\n",
      "Trainable params: 972,002\n",
      "Non-trainable params: 0\n",
      "__________________________________________________________________________________________________\n"
     ]
    }
   ],
   "source": [
    "EMBEDDING_SIZE = 5\n",
    "EPOCHS = 30\n",
    "\n",
    "inputs1 = Input(shape=(1,), name='userId') # userId\n",
    "inputs2 = Input(shape=(1,), name='movieId') # movieId\n",
    "\n",
    "embedding1 = Embedding(df.userId.max()+1, EMBEDDING_SIZE, input_length=1, name='userId_Embedding')(inputs1)\n",
    "embedding2 = Embedding(df.movieId.max()+1, EMBEDDING_SIZE, input_length=1, name='movieId_Embedding')(inputs2)\n",
    "\n",
    "c = Concatenate()([embedding1, embedding2])\n",
    "x = Dense(32, activation='relu', name='relu1')(c)\n",
    "x = Dense(16, activation='relu', name='relu2')(x)\n",
    "y = Dense(1, activation='linear' ,name='output')(x)\n",
    "\n",
    "model = Model(inputs=[inputs1, inputs2], outputs=y, name='DL_Recommender')\n",
    "model.compile(\n",
    "    optimizer=keras.optimizers.Adam(learning_rate=0.0001),\n",
    "    loss='MSE',\n",
    "    metrics=['MAE']\n",
    "    )\n",
    "\n",
    "model.summary()"
   ]
  },
  {
   "cell_type": "code",
   "execution_count": 13,
   "id": "06a1468a",
   "metadata": {
    "scrolled": true
   },
   "outputs": [
    {
     "name": "stdout",
     "output_type": "stream",
     "text": [
      "Epoch 1/30\n",
      "284/284 [==============================] - 3s 10ms/step - loss: 1.0884 - MAE: 0.8295 - val_loss: 1.0205 - val_MAE: 0.8015\n",
      "Epoch 2/30\n",
      "284/284 [==============================] - 2s 7ms/step - loss: 1.0467 - MAE: 0.8143 - val_loss: 0.9584 - val_MAE: 0.7778\n",
      "Epoch 3/30\n",
      "284/284 [==============================] - 2s 7ms/step - loss: 0.9388 - MAE: 0.7624 - val_loss: 0.8936 - val_MAE: 0.7428\n",
      "Epoch 4/30\n",
      "284/284 [==============================] - 2s 7ms/step - loss: 0.8387 - MAE: 0.7084 - val_loss: 0.8844 - val_MAE: 0.7380\n",
      "Epoch 5/30\n",
      "284/284 [==============================] - 2s 7ms/step - loss: 0.7789 - MAE: 0.6796 - val_loss: 0.9040 - val_MAE: 0.7519\n",
      "Epoch 6/30\n",
      "284/284 [==============================] - 2s 7ms/step - loss: 0.7422 - MAE: 0.6617 - val_loss: 0.9183 - val_MAE: 0.7597\n",
      "Epoch 7/30\n",
      "284/284 [==============================] - 2s 7ms/step - loss: 0.7172 - MAE: 0.6493 - val_loss: 0.9355 - val_MAE: 0.7694\n",
      "Epoch 8/30\n",
      "284/284 [==============================] - 2s 7ms/step - loss: 0.6992 - MAE: 0.6405 - val_loss: 0.9428 - val_MAE: 0.7722\n",
      "Epoch 9/30\n",
      "284/284 [==============================] - 2s 7ms/step - loss: 0.6856 - MAE: 0.6333 - val_loss: 0.9561 - val_MAE: 0.7793\n",
      "Epoch 10/30\n",
      "284/284 [==============================] - 2s 7ms/step - loss: 0.6752 - MAE: 0.6279 - val_loss: 0.9670 - val_MAE: 0.7846\n",
      "Epoch 11/30\n",
      "284/284 [==============================] - 2s 7ms/step - loss: 0.6669 - MAE: 0.6236 - val_loss: 0.9766 - val_MAE: 0.7890\n",
      "Epoch 12/30\n",
      "284/284 [==============================] - 2s 7ms/step - loss: 0.6603 - MAE: 0.6200 - val_loss: 0.9857 - val_MAE: 0.7933\n",
      "Epoch 13/30\n",
      "284/284 [==============================] - 2s 7ms/step - loss: 0.6548 - MAE: 0.6170 - val_loss: 0.9971 - val_MAE: 0.7990\n",
      "Epoch 14/30\n",
      "284/284 [==============================] - 2s 8ms/step - loss: 0.6503 - MAE: 0.6147 - val_loss: 1.0017 - val_MAE: 0.8007\n",
      "Epoch 15/30\n",
      "284/284 [==============================] - 2s 7ms/step - loss: 0.6464 - MAE: 0.6124 - val_loss: 1.0067 - val_MAE: 0.8027\n",
      "Epoch 16/30\n",
      "284/284 [==============================] - 2s 7ms/step - loss: 0.6432 - MAE: 0.6107 - val_loss: 1.0088 - val_MAE: 0.8031\n",
      "Epoch 17/30\n",
      "284/284 [==============================] - 2s 8ms/step - loss: 0.6402 - MAE: 0.6089 - val_loss: 1.0176 - val_MAE: 0.8075\n",
      "Epoch 18/30\n",
      "284/284 [==============================] - 2s 8ms/step - loss: 0.6379 - MAE: 0.6076 - val_loss: 1.0229 - val_MAE: 0.8100\n",
      "Epoch 19/30\n",
      "284/284 [==============================] - 2s 7ms/step - loss: 0.6357 - MAE: 0.6063 - val_loss: 1.0260 - val_MAE: 0.8113\n",
      "Epoch 20/30\n",
      "284/284 [==============================] - 2s 7ms/step - loss: 0.6338 - MAE: 0.6054 - val_loss: 1.0357 - val_MAE: 0.8160\n",
      "Epoch 21/30\n",
      "284/284 [==============================] - 2s 7ms/step - loss: 0.6322 - MAE: 0.6042 - val_loss: 1.0335 - val_MAE: 0.8147\n",
      "Epoch 22/30\n",
      "284/284 [==============================] - 2s 7ms/step - loss: 0.6306 - MAE: 0.6033 - val_loss: 1.0367 - val_MAE: 0.8159\n",
      "Epoch 23/30\n",
      "284/284 [==============================] - 2s 7ms/step - loss: 0.6293 - MAE: 0.6025 - val_loss: 1.0398 - val_MAE: 0.8172\n",
      "Epoch 24/30\n",
      "284/284 [==============================] - 2s 7ms/step - loss: 0.6280 - MAE: 0.6016 - val_loss: 1.0433 - val_MAE: 0.8188\n",
      "Epoch 25/30\n",
      "284/284 [==============================] - 2s 8ms/step - loss: 0.6268 - MAE: 0.6009 - val_loss: 1.0386 - val_MAE: 0.8159\n",
      "Epoch 26/30\n",
      "284/284 [==============================] - 2s 7ms/step - loss: 0.6257 - MAE: 0.6001 - val_loss: 1.0496 - val_MAE: 0.8218\n",
      "Epoch 27/30\n",
      "284/284 [==============================] - 2s 7ms/step - loss: 0.6249 - MAE: 0.5999 - val_loss: 1.0498 - val_MAE: 0.8213\n",
      "Epoch 28/30\n",
      "284/284 [==============================] - 2s 7ms/step - loss: 0.6240 - MAE: 0.5991 - val_loss: 1.0425 - val_MAE: 0.8172\n",
      "Epoch 29/30\n",
      "284/284 [==============================] - 2s 7ms/step - loss: 0.6230 - MAE: 0.5985 - val_loss: 1.0487 - val_MAE: 0.8205\n",
      "Epoch 30/30\n",
      "284/284 [==============================] - 2s 8ms/step - loss: 0.6223 - MAE: 0.5978 - val_loss: 1.0463 - val_MAE: 0.8189\n"
     ]
    }
   ],
   "source": [
    "history = model.fit(x=[trainf_X.userId, trainf_X.movieId], y=trainf_y, epochs=30, validation_split=.1, batch_size=BATCH_SIZE)"
   ]
  },
  {
   "cell_type": "code",
   "execution_count": 14,
   "id": "d4ff53b1",
   "metadata": {},
   "outputs": [
    {
     "data": {
      "text/plain": [
       "[<matplotlib.lines.Line2D at 0x1e7c9136070>]"
      ]
     },
     "execution_count": 14,
     "metadata": {},
     "output_type": "execute_result"
    },
    {
     "data": {
      "image/png": "[encoded data removed]",
      "text/plain": [
       "<Figure size 432x288 with 1 Axes>"
      ]
     },
     "metadata": {
      "needs_background": "light"
     },
     "output_type": "display_data"
    }
   ],
   "source": [
    "plt.plot([i for i in range(1, EPOCHS+1)], history.history['loss'])\n",
    "plt.plot([i for i in range(1, EPOCHS+1)], history.history['val_loss'])"
   ]
  },
  {
   "cell_type": "code",
   "execution_count": 15,
   "id": "12567553",
   "metadata": {},
   "outputs": [
    {
     "data": {
      "text/plain": [
       "[<matplotlib.lines.Line2D at 0x1e7ca8f2700>]"
      ]
     },
     "execution_count": 15,
     "metadata": {},
     "output_type": "execute_result"
    },
    {
     "data": {
      "image/png": "[encoded data removed]",
      "text/plain": [
       "<Figure size 432x288 with 1 Axes>"
      ]
     },
     "metadata": {
      "needs_background": "light"
     },
     "output_type": "display_data"
    }
   ],
   "source": [
    "plt.plot([i for i in range(1, EPOCHS+1)], history.history['MAE'])\n",
    "plt.plot([i for i in range(1, EPOCHS+1)], history.history['val_MAE'])"
   ]
  },
  {
   "cell_type": "markdown",
   "id": "1fd694bc",
   "metadata": {},
   "source": [
    "### 15 epochs seems to be ideal"
   ]
  },
  {
   "cell_type": "code",
   "execution_count": 16,
   "id": "ed22285b",
   "metadata": {},
   "outputs": [],
   "source": [
    "model_final = Model(inputs=[inputs1, inputs2], outputs=y)\n",
    "model_final.compile(\n",
    "    optimizer=keras.optimizers.Adam(learning_rate=0.001),\n",
    "    loss='MSE',\n",
    "    metrics=['MAE']\n",
    ")"
   ]
  },
  {
   "cell_type": "code",
   "execution_count": 17,
   "id": "aea737c7",
   "metadata": {},
   "outputs": [
    {
     "name": "stdout",
     "output_type": "stream",
     "text": [
      "Epoch 1/15\n",
      "316/316 [==============================] - 2s 8ms/step - loss: 0.6860 - MAE: 0.6313\n",
      "Epoch 2/15\n",
      "316/316 [==============================] - 2s 7ms/step - loss: 0.6595 - MAE: 0.6186\n",
      "Epoch 3/15\n",
      "316/316 [==============================] - 2s 7ms/step - loss: 0.6412 - MAE: 0.6092\n",
      "Epoch 4/15\n",
      "316/316 [==============================] - 2s 7ms/step - loss: 0.6273 - MAE: 0.6010\n",
      "Epoch 5/15\n",
      "316/316 [==============================] - 2s 7ms/step - loss: 0.6152 - MAE: 0.5950\n",
      "Epoch 6/15\n",
      "316/316 [==============================] - 2s 8ms/step - loss: 0.6044 - MAE: 0.5891\n",
      "Epoch 7/15\n",
      "316/316 [==============================] - 2s 7ms/step - loss: 0.5943 - MAE: 0.5834\n",
      "Epoch 8/15\n",
      "316/316 [==============================] - 2s 7ms/step - loss: 0.5846 - MAE: 0.5779\n",
      "Epoch 9/15\n",
      "316/316 [==============================] - 2s 7ms/step - loss: 0.5759 - MAE: 0.5741\n",
      "Epoch 10/15\n",
      "316/316 [==============================] - 2s 8ms/step - loss: 0.5663 - MAE: 0.5687\n",
      "Epoch 11/15\n",
      "316/316 [==============================] - 3s 8ms/step - loss: 0.5574 - MAE: 0.5636\n",
      "Epoch 12/15\n",
      "316/316 [==============================] - 2s 8ms/step - loss: 0.5473 - MAE: 0.5574\n",
      "Epoch 13/15\n",
      "316/316 [==============================] - 2s 8ms/step - loss: 0.5389 - MAE: 0.5536\n",
      "Epoch 14/15\n",
      "316/316 [==============================] - 2s 7ms/step - loss: 0.5303 - MAE: 0.5489\n",
      "Epoch 15/15\n",
      "316/316 [==============================] - 2s 8ms/step - loss: 0.5222 - MAE: 0.5440\n"
     ]
    }
   ],
   "source": [
    "history = model_final.fit(x=[trainf_X.userId, trainf_X.movieId], y=trainf_y, epochs=15, batch_size=BATCH_SIZE)"
   ]
  },
  {
   "cell_type": "code",
   "execution_count": 18,
   "id": "cab03b1d",
   "metadata": {},
   "outputs": [],
   "source": [
    "y_pred = model_final.predict([test_X.userId, test_X.movieId])"
   ]
  },
  {
   "cell_type": "code",
   "execution_count": 19,
   "id": "5c6c6c7e",
   "metadata": {},
   "outputs": [],
   "source": [
    "y_pred = y_pred.reshape(len(y_pred),)"
   ]
  },
  {
   "cell_type": "code",
   "execution_count": 20,
   "id": "c72a4a3b",
   "metadata": {},
   "outputs": [
    {
     "data": {
      "text/plain": [
       "0.8123612030177512"
      ]
     },
     "execution_count": 20,
     "metadata": {},
     "output_type": "execute_result"
    }
   ],
   "source": [
    "mean_absolute_error(test_y, y_pred)"
   ]
  },
  {
   "cell_type": "markdown",
   "id": "836bfa24",
   "metadata": {},
   "source": [
    "### We can also treat the problem as classification!"
   ]
  },
  {
   "cell_type": "code",
   "execution_count": 21,
   "id": "bc8889e0",
   "metadata": {},
   "outputs": [],
   "source": [
    "N_TEST = round(len(df) * .2)   # 20% for test\n",
    "trainf, test = df.iloc[N_TEST:, :], df.iloc[:N_TEST, :]\n",
    "le = LabelEncoder()\n",
    "trainf_X, trainf_y = trainf.iloc[:,:-1], trainf.iloc[:,-1]\n",
    "trainf_y = le.fit_transform(trainf_y)\n",
    "test_X, test_y = test.iloc[:,:-1], test.iloc[:,-1]\n",
    "test_y = le.transform(test_y)"
   ]
  },
  {
   "cell_type": "code",
   "execution_count": 23,
   "id": "dcef286b",
   "metadata": {},
   "outputs": [
    {
     "name": "stdout",
     "output_type": "stream",
     "text": [
      "Model: \"DL_Recommender\"\n",
      "__________________________________________________________________________________________________\n",
      "Layer (type)                    Output Shape         Param #     Connected to                     \n",
      "==================================================================================================\n",
      "userId (InputLayer)             [(None, 1)]          0                                            \n",
      "__________________________________________________________________________________________________\n",
      "movieId (InputLayer)            [(None, 1)]          0                                            \n",
      "__________________________________________________________________________________________________\n",
      "userId_Embedding (Embedding)    (None, 1, 5)         3055        userId[0][0]                     \n",
      "__________________________________________________________________________________________________\n",
      "movieId_Embedding (Embedding)   (None, 1, 5)         968050      movieId[0][0]                    \n",
      "__________________________________________________________________________________________________\n",
      "concatenate_2 (Concatenate)     (None, 1, 10)        0           userId_Embedding[0][0]           \n",
      "                                                                 movieId_Embedding[0][0]          \n",
      "__________________________________________________________________________________________________\n",
      "relu1 (Dense)                   (None, 1, 32)        352         concatenate_2[0][0]              \n",
      "__________________________________________________________________________________________________\n",
      "relu2 (Dense)                   (None, 1, 16)        528         relu1[0][0]                      \n",
      "__________________________________________________________________________________________________\n",
      "output (Dense)                  (None, 1, 10)        170         relu2[0][0]                      \n",
      "==================================================================================================\n",
      "Total params: 972,155\n",
      "Trainable params: 972,155\n",
      "Non-trainable params: 0\n",
      "__________________________________________________________________________________________________\n"
     ]
    }
   ],
   "source": [
    "inputs1 = Input(shape=(1,), name='userId') # userId\n",
    "inputs2 = Input(shape=(1,), name='movieId') # movieId\n",
    "\n",
    "embedding1 = Embedding(df.userId.max()+1, EMBEDDING_SIZE, input_length=1, name='userId_Embedding')(inputs1)\n",
    "embedding2 = Embedding(df.movieId.max()+1, EMBEDDING_SIZE, input_length=1, name='movieId_Embedding')(inputs2)\n",
    "\n",
    "c = Concatenate()([embedding1, embedding2])\n",
    "x = Dense(32, activation='relu', name='relu1')(c)\n",
    "x = Dense(16, activation='relu', name='relu2')(x)\n",
    "y = Dense(10, activation='softmax' ,name='output')(x)\n",
    "\n",
    "model = Model(inputs=[inputs1, inputs2], outputs=y, name='DL_Recommender')\n",
    "model.compile(\n",
    "    optimizer=keras.optimizers.Adam(learning_rate=0.0001),\n",
    "    loss='sparse_categorical_crossentropy',\n",
    "    metrics=['acc']\n",
    "    )\n",
    "\n",
    "model.summary()"
   ]
  },
  {
   "cell_type": "code",
   "execution_count": 24,
   "id": "e85f40af",
   "metadata": {
    "scrolled": true
   },
   "outputs": [
    {
     "name": "stdout",
     "output_type": "stream",
     "text": [
      "Epoch 1/30\n",
      "284/284 [==============================] - 3s 9ms/step - loss: 2.2559 - acc: 0.1989 - val_loss: 2.1936 - val_acc: 0.2008\n",
      "Epoch 2/30\n",
      "284/284 [==============================] - 2s 7ms/step - loss: 2.1199 - acc: 0.1962 - val_loss: 2.0479 - val_acc: 0.2008\n",
      "Epoch 3/30\n",
      "284/284 [==============================] - 2s 7ms/step - loss: 2.0157 - acc: 0.2378 - val_loss: 1.9868 - val_acc: 0.2681\n",
      "Epoch 4/30\n",
      "284/284 [==============================] - 2s 7ms/step - loss: 1.9738 - acc: 0.2670 - val_loss: 1.9622 - val_acc: 0.2681\n",
      "Epoch 5/30\n",
      "284/284 [==============================] - 2s 7ms/step - loss: 1.9423 - acc: 0.2670 - val_loss: 1.9391 - val_acc: 0.2681\n",
      "Epoch 6/30\n",
      "284/284 [==============================] - 2s 8ms/step - loss: 1.9084 - acc: 0.2670 - val_loss: 1.9164 - val_acc: 0.2681\n",
      "Epoch 7/30\n",
      "284/284 [==============================] - 3s 9ms/step - loss: 1.8747 - acc: 0.2684 - val_loss: 1.8962 - val_acc: 0.2716\n",
      "Epoch 8/30\n",
      "284/284 [==============================] - 2s 9ms/step - loss: 1.8449 - acc: 0.2800 - val_loss: 1.8823 - val_acc: 0.2808\n",
      "Epoch 9/30\n",
      "284/284 [==============================] - 2s 7ms/step - loss: 1.8197 - acc: 0.2984 - val_loss: 1.8726 - val_acc: 0.2871\n",
      "Epoch 10/30\n",
      "284/284 [==============================] - 2s 7ms/step - loss: 1.7987 - acc: 0.3115 - val_loss: 1.8675 - val_acc: 0.2871\n",
      "Epoch 11/30\n",
      "284/284 [==============================] - 2s 7ms/step - loss: 1.7808 - acc: 0.3204 - val_loss: 1.8648 - val_acc: 0.2861\n",
      "Epoch 12/30\n",
      "284/284 [==============================] - 2s 7ms/step - loss: 1.7654 - acc: 0.3270 - val_loss: 1.8647 - val_acc: 0.2862\n",
      "Epoch 13/30\n",
      "284/284 [==============================] - 2s 7ms/step - loss: 1.7517 - acc: 0.3323 - val_loss: 1.8653 - val_acc: 0.2852\n",
      "Epoch 14/30\n",
      "284/284 [==============================] - 2s 7ms/step - loss: 1.7393 - acc: 0.3372 - val_loss: 1.8674 - val_acc: 0.2811s - \n",
      "Epoch 15/30\n",
      "284/284 [==============================] - 2s 7ms/step - loss: 1.7275 - acc: 0.3423 - val_loss: 1.8712 - val_acc: 0.2789\n",
      "Epoch 16/30\n",
      "284/284 [==============================] - 2s 7ms/step - loss: 1.7160 - acc: 0.3477 - val_loss: 1.8734 - val_acc: 0.2726\n",
      "Epoch 17/30\n",
      "284/284 [==============================] - 2s 8ms/step - loss: 1.7051 - acc: 0.3518 - val_loss: 1.8783 - val_acc: 0.2705\n",
      "Epoch 18/30\n",
      "284/284 [==============================] - 2s 7ms/step - loss: 1.6943 - acc: 0.3563 - val_loss: 1.8799 - val_acc: 0.2694\n",
      "Epoch 19/30\n",
      "284/284 [==============================] - 2s 7ms/step - loss: 1.6842 - acc: 0.3607 - val_loss: 1.8843 - val_acc: 0.2618\n",
      "Epoch 20/30\n",
      "284/284 [==============================] - 2s 7ms/step - loss: 1.6744 - acc: 0.3639 - val_loss: 1.8858 - val_acc: 0.2590\n",
      "Epoch 21/30\n",
      "284/284 [==============================] - 2s 7ms/step - loss: 1.6651 - acc: 0.3669 - val_loss: 1.8897 - val_acc: 0.2582\n",
      "Epoch 22/30\n",
      "284/284 [==============================] - 2s 7ms/step - loss: 1.6559 - acc: 0.3698 - val_loss: 1.8891 - val_acc: 0.2588\n",
      "Epoch 23/30\n",
      "284/284 [==============================] - 2s 8ms/step - loss: 1.6471 - acc: 0.3725 - val_loss: 1.8911 - val_acc: 0.2588\n",
      "Epoch 24/30\n",
      "284/284 [==============================] - 2s 8ms/step - loss: 1.6383 - acc: 0.3744 - val_loss: 1.8906 - val_acc: 0.2578\n",
      "Epoch 25/30\n",
      "284/284 [==============================] - 2s 7ms/step - loss: 1.6294 - acc: 0.3771 - val_loss: 1.8910 - val_acc: 0.2602\n",
      "Epoch 26/30\n",
      "284/284 [==============================] - 2s 8ms/step - loss: 1.6204 - acc: 0.3784 - val_loss: 1.8877 - val_acc: 0.2588\n",
      "Epoch 27/30\n",
      "284/284 [==============================] - 2s 8ms/step - loss: 1.6112 - acc: 0.3803 - val_loss: 1.8861 - val_acc: 0.2612\n",
      "Epoch 28/30\n",
      "284/284 [==============================] - 2s 9ms/step - loss: 1.6018 - acc: 0.3821 - val_loss: 1.8835 - val_acc: 0.2608\n",
      "Epoch 29/30\n",
      "284/284 [==============================] - 2s 8ms/step - loss: 1.5922 - acc: 0.3846 - val_loss: 1.8794 - val_acc: 0.2632\n",
      "Epoch 30/30\n",
      "284/284 [==============================] - 3s 9ms/step - loss: 1.5826 - acc: 0.3873 - val_loss: 1.8719 - val_acc: 0.2668\n"
     ]
    }
   ],
   "source": [
    "history = model.fit(x=[trainf_X.userId, trainf_X.movieId], y=trainf_y, epochs=30, validation_split=.1, batch_size=BATCH_SIZE)"
   ]
  },
  {
   "cell_type": "code",
   "execution_count": 25,
   "id": "9f92a9fd",
   "metadata": {},
   "outputs": [
    {
     "data": {
      "text/plain": [
       "[<matplotlib.lines.Line2D at 0x1e7cf2fd1f0>]"
      ]
     },
     "execution_count": 25,
     "metadata": {},
     "output_type": "execute_result"
    },
    {
     "data": {
      "image/png": "[encoded data removed]",
      "text/plain": [
       "<Figure size 432x288 with 1 Axes>"
      ]
     },
     "metadata": {
      "needs_background": "light"
     },
     "output_type": "display_data"
    }
   ],
   "source": [
    "plt.plot([i for i in range(1, EPOCHS+1)], history.history['loss'])\n",
    "plt.plot([i for i in range(1, EPOCHS+1)], history.history['val_loss'])"
   ]
  },
  {
   "cell_type": "code",
   "execution_count": 26,
   "id": "ad52016c",
   "metadata": {},
   "outputs": [
    {
     "data": {
      "text/plain": [
       "[<matplotlib.lines.Line2D at 0x1e7cf1815e0>]"
      ]
     },
     "execution_count": 26,
     "metadata": {},
     "output_type": "execute_result"
    },
    {
     "data": {
      "image/png": "[encoded data removed]",
      "text/plain": [
       "<Figure size 432x288 with 1 Axes>"
      ]
     },
     "metadata": {
      "needs_background": "light"
     },
     "output_type": "display_data"
    }
   ],
   "source": [
    "plt.plot([i for i in range(1, EPOCHS+1)], history.history['acc'])\n",
    "plt.plot([i for i in range(1, EPOCHS+1)], history.history['val_acc'])"
   ]
  },
  {
   "cell_type": "code",
   "execution_count": 27,
   "id": "d19e55c5",
   "metadata": {},
   "outputs": [],
   "source": [
    "model_final = Model(inputs=[inputs1, inputs2], outputs=y)\n",
    "model_final.compile(\n",
    "    optimizer=keras.optimizers.Adam(learning_rate=0.0001),\n",
    "     loss='sparse_categorical_crossentropy',\n",
    "    metrics=['acc', 'MAE']\n",
    ")"
   ]
  },
  {
   "cell_type": "code",
   "execution_count": 28,
   "id": "95bf2ea2",
   "metadata": {},
   "outputs": [
    {
     "name": "stdout",
     "output_type": "stream",
     "text": [
      "Epoch 1/4\n",
      "316/316 [==============================] - 3s 10ms/step - loss: 1.5996 - acc: 0.3789 - MAE: 5.9196\n",
      "Epoch 2/4\n",
      "316/316 [==============================] - 3s 9ms/step - loss: 1.5851 - acc: 0.3832 - MAE: 5.9195\n",
      "Epoch 3/4\n",
      "316/316 [==============================] - 3s 8ms/step - loss: 1.5728 - acc: 0.3878 - MAE: 5.9193\n",
      "Epoch 4/4\n",
      "316/316 [==============================] - 3s 8ms/step - loss: 1.5620 - acc: 0.3904 - MAE: 5.9196\n"
     ]
    }
   ],
   "source": [
    "history = model_final.fit(x=[trainf_X.userId, trainf_X.movieId], y=trainf_y, epochs=4, batch_size=BATCH_SIZE)"
   ]
  },
  {
   "cell_type": "code",
   "execution_count": 29,
   "id": "50ad95a2",
   "metadata": {},
   "outputs": [
    {
     "data": {
      "text/plain": [
       "(0.27485496107502355, 0.811102295829821)"
      ]
     },
     "execution_count": 29,
     "metadata": {},
     "output_type": "execute_result"
    }
   ],
   "source": [
    "from sklearn.metrics import accuracy_score\n",
    "y_pred = np.argmax(model_final.predict([test_X.userId, test_X.movieId]), axis=-1)\n",
    "y_pred = y_pred.reshape(len(y_pred),)\n",
    "\n",
    "accuracy_score(test_y, y_pred), mean_absolute_error(le.inverse_transform(test_y), le.inverse_transform(y_pred))"
   ]
  },
  {
   "cell_type": "code",
   "execution_count": 31,
   "id": "dfeaf365",
   "metadata": {},
   "outputs": [
    {
     "data": {
      "text/plain": [
       "array([[5],\n",
       "       [6],\n",
       "       [5],\n",
       "       ...,\n",
       "       [8],\n",
       "       [9],\n",
       "       [7]], dtype=int64)"
      ]
     },
     "execution_count": 31,
     "metadata": {},
     "output_type": "execute_result"
    }
   ],
   "source": [
    "np.argmax(model_final.predict([test_X.userId, test_X.movieId]), axis=-1)"
   ]
  },
  {
   "cell_type": "code",
   "execution_count": 32,
   "id": "1cc4f96b",
   "metadata": {},
   "outputs": [
    {
     "data": {
      "text/plain": [
       "(array([5, 6, 5, ..., 8, 9, 7], dtype=int64),\n",
       " array([5, 5, 4, ..., 7, 9, 8], dtype=int64))"
      ]
     },
     "execution_count": 32,
     "metadata": {},
     "output_type": "execute_result"
    }
   ],
   "source": [
    "y_pred, test_y"
   ]
  },
  {
   "cell_type": "code",
   "execution_count": null,
   "id": "f50b3a0c",
   "metadata": {},
   "outputs": [],
   "source": []
  }
 ],
 "metadata": {
  "kernelspec": {
   "display_name": "Python 3 (ipykernel)",
   "language": "python",
   "name": "python3"
  },
  "language_info": {
   "codemirror_mode": {
    "name": "ipython",
    "version": 3
   },
   "file_extension": ".py",
   "mimetype": "text/x-python",
   "name": "python",
   "nbconvert_exporter": "python",
   "pygments_lexer": "ipython3",
   "version": "3.8.8"
  }
 },
 "nbformat": 4,
 "nbformat_minor": 5
}
