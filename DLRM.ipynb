{
 "cells": [
  {
   "cell_type": "code",
   "execution_count": 249,
   "id": "193d4a69",
   "metadata": {},
   "outputs": [],
   "source": [
    "import pandas as pd\n",
    "import tensorflow as tf\n",
    "import keras\n",
    "import numpy as np\n",
    "from sklearn.model_selection import train_test_split\n",
    "from sklearn.metrics import mean_absolute_error\n",
    "from sklearn.preprocessing import LabelEncoder, StandardScaler\n",
    "from keras.models import Model\n",
    "from keras.layers import Dense, Input, Embedding, Concatenate, Flatten\n",
    "import matplotlib.pyplot as plt"
   ]
  },
  {
   "cell_type": "code",
   "execution_count": 250,
   "id": "2fec89b4",
   "metadata": {},
   "outputs": [],
   "source": [
    "ratings = pd.read_csv('ratings_small.csv').sample(frac=1, random_state=42)\n",
    "movies = pd.read_csv('movies_small.csv').sample(frac=1, random_state=42)\n",
    "df = pd.merge(movies, ratings, on=['movieId', 'movieId'], how='inner')"
   ]
  },
  {
   "cell_type": "code",
   "execution_count": 251,
   "id": "fba08255",
   "metadata": {
    "scrolled": true
   },
   "outputs": [
    {
     "data": {
      "text/html": [
       "<div>\n",
       "<style scoped>\n",
       "    .dataframe tbody tr th:only-of-type {\n",
       "        vertical-align: middle;\n",
       "    }\n",
       "\n",
       "    .dataframe tbody tr th {\n",
       "        vertical-align: top;\n",
       "    }\n",
       "\n",
       "    .dataframe thead th {\n",
       "        text-align: right;\n",
       "    }\n",
       "</style>\n",
       "<table border=\"1\" class=\"dataframe\">\n",
       "  <thead>\n",
       "    <tr style=\"text-align: right;\">\n",
       "      <th></th>\n",
       "      <th>movieId</th>\n",
       "      <th>title</th>\n",
       "      <th>genres</th>\n",
       "      <th>userId</th>\n",
       "      <th>rating</th>\n",
       "      <th>timestamp</th>\n",
       "    </tr>\n",
       "  </thead>\n",
       "  <tbody>\n",
       "    <tr>\n",
       "      <th>0</th>\n",
       "      <td>45635</td>\n",
       "      <td>Notorious Bettie Page, The (2005)</td>\n",
       "      <td>Drama</td>\n",
       "      <td>414</td>\n",
       "      <td>3.0</td>\n",
       "      <td>1216149238</td>\n",
       "    </tr>\n",
       "    <tr>\n",
       "      <th>1</th>\n",
       "      <td>45635</td>\n",
       "      <td>Notorious Bettie Page, The (2005)</td>\n",
       "      <td>Drama</td>\n",
       "      <td>474</td>\n",
       "      <td>3.0</td>\n",
       "      <td>1165540175</td>\n",
       "    </tr>\n",
       "    <tr>\n",
       "      <th>2</th>\n",
       "      <td>1373</td>\n",
       "      <td>Star Trek V: The Final Frontier (1989)</td>\n",
       "      <td>Action|Sci-Fi</td>\n",
       "      <td>288</td>\n",
       "      <td>2.5</td>\n",
       "      <td>1088172808</td>\n",
       "    </tr>\n",
       "    <tr>\n",
       "      <th>3</th>\n",
       "      <td>1373</td>\n",
       "      <td>Star Trek V: The Final Frontier (1989)</td>\n",
       "      <td>Action|Sci-Fi</td>\n",
       "      <td>294</td>\n",
       "      <td>3.0</td>\n",
       "      <td>966634266</td>\n",
       "    </tr>\n",
       "    <tr>\n",
       "      <th>4</th>\n",
       "      <td>1373</td>\n",
       "      <td>Star Trek V: The Final Frontier (1989)</td>\n",
       "      <td>Action|Sci-Fi</td>\n",
       "      <td>19</td>\n",
       "      <td>1.0</td>\n",
       "      <td>965703973</td>\n",
       "    </tr>\n",
       "  </tbody>\n",
       "</table>\n",
       "</div>"
      ],
      "text/plain": [
       "   movieId                                   title         genres  userId  \\\n",
       "0    45635       Notorious Bettie Page, The (2005)          Drama     414   \n",
       "1    45635       Notorious Bettie Page, The (2005)          Drama     474   \n",
       "2     1373  Star Trek V: The Final Frontier (1989)  Action|Sci-Fi     288   \n",
       "3     1373  Star Trek V: The Final Frontier (1989)  Action|Sci-Fi     294   \n",
       "4     1373  Star Trek V: The Final Frontier (1989)  Action|Sci-Fi      19   \n",
       "\n",
       "   rating   timestamp  \n",
       "0     3.0  1216149238  \n",
       "1     3.0  1165540175  \n",
       "2     2.5  1088172808  \n",
       "3     3.0   966634266  \n",
       "4     1.0   965703973  "
      ]
     },
     "execution_count": 251,
     "metadata": {},
     "output_type": "execute_result"
    }
   ],
   "source": [
    "df.head()"
   ]
  },
  {
   "cell_type": "code",
   "execution_count": 252,
   "id": "f637b6a0",
   "metadata": {},
   "outputs": [],
   "source": [
    "COLS = ['movieId', 'title', 'genres', 'userId', 'rating']"
   ]
  },
  {
   "cell_type": "code",
   "execution_count": 253,
   "id": "ba61c66c",
   "metadata": {},
   "outputs": [
    {
     "data": {
      "text/html": [
       "<div>\n",
       "<style scoped>\n",
       "    .dataframe tbody tr th:only-of-type {\n",
       "        vertical-align: middle;\n",
       "    }\n",
       "\n",
       "    .dataframe tbody tr th {\n",
       "        vertical-align: top;\n",
       "    }\n",
       "\n",
       "    .dataframe thead th {\n",
       "        text-align: right;\n",
       "    }\n",
       "</style>\n",
       "<table border=\"1\" class=\"dataframe\">\n",
       "  <thead>\n",
       "    <tr style=\"text-align: right;\">\n",
       "      <th></th>\n",
       "      <th>movieId</th>\n",
       "      <th>userId</th>\n",
       "      <th>rating</th>\n",
       "    </tr>\n",
       "  </thead>\n",
       "  <tbody>\n",
       "    <tr>\n",
       "      <th>count</th>\n",
       "      <td>100836.000000</td>\n",
       "      <td>100836.000000</td>\n",
       "      <td>100836.000000</td>\n",
       "    </tr>\n",
       "    <tr>\n",
       "      <th>mean</th>\n",
       "      <td>19435.295718</td>\n",
       "      <td>326.127564</td>\n",
       "      <td>3.501557</td>\n",
       "    </tr>\n",
       "    <tr>\n",
       "      <th>std</th>\n",
       "      <td>35530.987199</td>\n",
       "      <td>182.618491</td>\n",
       "      <td>1.042529</td>\n",
       "    </tr>\n",
       "    <tr>\n",
       "      <th>min</th>\n",
       "      <td>1.000000</td>\n",
       "      <td>1.000000</td>\n",
       "      <td>0.500000</td>\n",
       "    </tr>\n",
       "    <tr>\n",
       "      <th>25%</th>\n",
       "      <td>1199.000000</td>\n",
       "      <td>177.000000</td>\n",
       "      <td>3.000000</td>\n",
       "    </tr>\n",
       "    <tr>\n",
       "      <th>50%</th>\n",
       "      <td>2991.000000</td>\n",
       "      <td>325.000000</td>\n",
       "      <td>3.500000</td>\n",
       "    </tr>\n",
       "    <tr>\n",
       "      <th>75%</th>\n",
       "      <td>8122.000000</td>\n",
       "      <td>477.000000</td>\n",
       "      <td>4.000000</td>\n",
       "    </tr>\n",
       "    <tr>\n",
       "      <th>max</th>\n",
       "      <td>193609.000000</td>\n",
       "      <td>610.000000</td>\n",
       "      <td>5.000000</td>\n",
       "    </tr>\n",
       "  </tbody>\n",
       "</table>\n",
       "</div>"
      ],
      "text/plain": [
       "             movieId         userId         rating\n",
       "count  100836.000000  100836.000000  100836.000000\n",
       "mean    19435.295718     326.127564       3.501557\n",
       "std     35530.987199     182.618491       1.042529\n",
       "min         1.000000       1.000000       0.500000\n",
       "25%      1199.000000     177.000000       3.000000\n",
       "50%      2991.000000     325.000000       3.500000\n",
       "75%      8122.000000     477.000000       4.000000\n",
       "max    193609.000000     610.000000       5.000000"
      ]
     },
     "execution_count": 253,
     "metadata": {},
     "output_type": "execute_result"
    }
   ],
   "source": [
    "df.drop(columns=['timestamp'], inplace=True)\n",
    "# df.columns = COLS\n",
    "df.describe()"
   ]
  },
  {
   "cell_type": "code",
   "execution_count": 254,
   "id": "64f43889",
   "metadata": {},
   "outputs": [
    {
     "data": {
      "text/plain": [
       "movieId      int64\n",
       "title       object\n",
       "genres      object\n",
       "userId       int64\n",
       "rating     float64\n",
       "dtype: object"
      ]
     },
     "execution_count": 254,
     "metadata": {},
     "output_type": "execute_result"
    }
   ],
   "source": [
    "df.dtypes"
   ]
  },
  {
   "cell_type": "markdown",
   "id": "f1b68f60",
   "metadata": {},
   "source": [
    "### Declare constants"
   ]
  },
  {
   "cell_type": "code",
   "execution_count": 255,
   "id": "b2d6a4d5",
   "metadata": {},
   "outputs": [],
   "source": [
    "BATCH_SIZE = 256"
   ]
  },
  {
   "cell_type": "code",
   "execution_count": 256,
   "id": "d82b0aa7",
   "metadata": {},
   "outputs": [],
   "source": [
    "N_TEST = round(len(df) * .2)   # 20% for test\n",
    "trainf, test = df.iloc[N_TEST:, :], df.iloc[:N_TEST, :]\n",
    "\n",
    "trainf_X, trainf_y = trainf.iloc[:,:-1], trainf.iloc[:,-1]\n",
    "centering_factor = trainf.rating.mean()\n",
    "trainf_y -= centering_factor\n",
    "\n",
    "test_X, test_y = test.iloc[:,:-1], test.iloc[:,-1]\n",
    "test_y -= centering_factor"
   ]
  },
  {
   "cell_type": "code",
   "execution_count": 257,
   "id": "1149e8ba",
   "metadata": {},
   "outputs": [
    {
     "data": {
      "text/plain": [
       "3.5083985173982573"
      ]
     },
     "execution_count": 257,
     "metadata": {},
     "output_type": "execute_result"
    }
   ],
   "source": [
    "centering_factor"
   ]
  },
  {
   "cell_type": "code",
   "execution_count": 258,
   "id": "0a536344",
   "metadata": {},
   "outputs": [
    {
     "data": {
      "text/html": [
       "<div>\n",
       "<style scoped>\n",
       "    .dataframe tbody tr th:only-of-type {\n",
       "        vertical-align: middle;\n",
       "    }\n",
       "\n",
       "    .dataframe tbody tr th {\n",
       "        vertical-align: top;\n",
       "    }\n",
       "\n",
       "    .dataframe thead th {\n",
       "        text-align: right;\n",
       "    }\n",
       "</style>\n",
       "<table border=\"1\" class=\"dataframe\">\n",
       "  <thead>\n",
       "    <tr style=\"text-align: right;\">\n",
       "      <th></th>\n",
       "      <th>movieId</th>\n",
       "      <th>title</th>\n",
       "      <th>genres</th>\n",
       "      <th>userId</th>\n",
       "    </tr>\n",
       "  </thead>\n",
       "  <tbody>\n",
       "    <tr>\n",
       "      <th>20167</th>\n",
       "      <td>593</td>\n",
       "      <td>Silence of the Lambs, The (1991)</td>\n",
       "      <td>Crime|Horror|Thriller</td>\n",
       "      <td>113</td>\n",
       "    </tr>\n",
       "    <tr>\n",
       "      <th>20168</th>\n",
       "      <td>593</td>\n",
       "      <td>Silence of the Lambs, The (1991)</td>\n",
       "      <td>Crime|Horror|Thriller</td>\n",
       "      <td>46</td>\n",
       "    </tr>\n",
       "    <tr>\n",
       "      <th>20169</th>\n",
       "      <td>593</td>\n",
       "      <td>Silence of the Lambs, The (1991)</td>\n",
       "      <td>Crime|Horror|Thriller</td>\n",
       "      <td>199</td>\n",
       "    </tr>\n",
       "    <tr>\n",
       "      <th>20170</th>\n",
       "      <td>593</td>\n",
       "      <td>Silence of the Lambs, The (1991)</td>\n",
       "      <td>Crime|Horror|Thriller</td>\n",
       "      <td>561</td>\n",
       "    </tr>\n",
       "    <tr>\n",
       "      <th>20171</th>\n",
       "      <td>593</td>\n",
       "      <td>Silence of the Lambs, The (1991)</td>\n",
       "      <td>Crime|Horror|Thriller</td>\n",
       "      <td>357</td>\n",
       "    </tr>\n",
       "    <tr>\n",
       "      <th>...</th>\n",
       "      <td>...</td>\n",
       "      <td>...</td>\n",
       "      <td>...</td>\n",
       "      <td>...</td>\n",
       "    </tr>\n",
       "    <tr>\n",
       "      <th>100831</th>\n",
       "      <td>1131</td>\n",
       "      <td>Jean de Florette (1986)</td>\n",
       "      <td>Drama|Mystery</td>\n",
       "      <td>547</td>\n",
       "    </tr>\n",
       "    <tr>\n",
       "      <th>100832</th>\n",
       "      <td>1131</td>\n",
       "      <td>Jean de Florette (1986)</td>\n",
       "      <td>Drama|Mystery</td>\n",
       "      <td>202</td>\n",
       "    </tr>\n",
       "    <tr>\n",
       "      <th>100833</th>\n",
       "      <td>1131</td>\n",
       "      <td>Jean de Florette (1986)</td>\n",
       "      <td>Drama|Mystery</td>\n",
       "      <td>372</td>\n",
       "    </tr>\n",
       "    <tr>\n",
       "      <th>100834</th>\n",
       "      <td>1131</td>\n",
       "      <td>Jean de Florette (1986)</td>\n",
       "      <td>Drama|Mystery</td>\n",
       "      <td>84</td>\n",
       "    </tr>\n",
       "    <tr>\n",
       "      <th>100835</th>\n",
       "      <td>74683</td>\n",
       "      <td>Mike Bassett: England Manager (2001)</td>\n",
       "      <td>Comedy</td>\n",
       "      <td>89</td>\n",
       "    </tr>\n",
       "  </tbody>\n",
       "</table>\n",
       "<p>80669 rows × 4 columns</p>\n",
       "</div>"
      ],
      "text/plain": [
       "        movieId                                 title                 genres  \\\n",
       "20167       593      Silence of the Lambs, The (1991)  Crime|Horror|Thriller   \n",
       "20168       593      Silence of the Lambs, The (1991)  Crime|Horror|Thriller   \n",
       "20169       593      Silence of the Lambs, The (1991)  Crime|Horror|Thriller   \n",
       "20170       593      Silence of the Lambs, The (1991)  Crime|Horror|Thriller   \n",
       "20171       593      Silence of the Lambs, The (1991)  Crime|Horror|Thriller   \n",
       "...         ...                                   ...                    ...   \n",
       "100831     1131               Jean de Florette (1986)          Drama|Mystery   \n",
       "100832     1131               Jean de Florette (1986)          Drama|Mystery   \n",
       "100833     1131               Jean de Florette (1986)          Drama|Mystery   \n",
       "100834     1131               Jean de Florette (1986)          Drama|Mystery   \n",
       "100835    74683  Mike Bassett: England Manager (2001)                 Comedy   \n",
       "\n",
       "        userId  \n",
       "20167      113  \n",
       "20168       46  \n",
       "20169      199  \n",
       "20170      561  \n",
       "20171      357  \n",
       "...        ...  \n",
       "100831     547  \n",
       "100832     202  \n",
       "100833     372  \n",
       "100834      84  \n",
       "100835      89  \n",
       "\n",
       "[80669 rows x 4 columns]"
      ]
     },
     "execution_count": 258,
     "metadata": {},
     "output_type": "execute_result"
    }
   ],
   "source": [
    "trainf_X"
   ]
  },
  {
   "cell_type": "code",
   "execution_count": 259,
   "id": "5b32da67",
   "metadata": {},
   "outputs": [],
   "source": [
    "# lr_schedule = tf.keras.optimizers.schedules.ExponentialDecay(\n",
    "#     0.0001,\n",
    "#     decay_steps=2000,\n",
    "#     decay_rate=0.96,\n",
    "#     staircase=True)\n"
   ]
  },
  {
   "cell_type": "code",
   "execution_count": 260,
   "id": "d47f960e",
   "metadata": {},
   "outputs": [
    {
     "name": "stdout",
     "output_type": "stream",
     "text": [
      "Model: \"DL_Recommender\"\n",
      "__________________________________________________________________________________________________\n",
      "Layer (type)                    Output Shape         Param #     Connected to                     \n",
      "==================================================================================================\n",
      "userId (InputLayer)             [(None, 1)]          0                                            \n",
      "__________________________________________________________________________________________________\n",
      "movieId (InputLayer)            [(None, 1)]          0                                            \n",
      "__________________________________________________________________________________________________\n",
      "userId_Embedding (Embedding)    (None, 1, 5)         3055        userId[0][0]                     \n",
      "__________________________________________________________________________________________________\n",
      "movieId_Embedding (Embedding)   (None, 1, 5)         968050      movieId[0][0]                    \n",
      "__________________________________________________________________________________________________\n",
      "concatenate_21 (Concatenate)    (None, 1, 10)        0           userId_Embedding[0][0]           \n",
      "                                                                 movieId_Embedding[0][0]          \n",
      "__________________________________________________________________________________________________\n",
      "relu1 (Dense)                   (None, 1, 32)        352         concatenate_21[0][0]             \n",
      "__________________________________________________________________________________________________\n",
      "relu2 (Dense)                   (None, 1, 16)        528         relu1[0][0]                      \n",
      "__________________________________________________________________________________________________\n",
      "output (Dense)                  (None, 1, 1)         17          relu2[0][0]                      \n",
      "==================================================================================================\n",
      "Total params: 972,002\n",
      "Trainable params: 972,002\n",
      "Non-trainable params: 0\n",
      "__________________________________________________________________________________________________\n"
     ]
    }
   ],
   "source": [
    "EMBEDDING_SIZE = 5\n",
    "EPOCHS = 30\n",
    "\n",
    "inputs1 = Input(shape=(1,), name='userId') # userId\n",
    "inputs2 = Input(shape=(1,), name='movieId') # movieId\n",
    "\n",
    "embedding1 = Embedding(df.userId.max()+1, EMBEDDING_SIZE, input_length=1, name='userId_Embedding')(inputs1)\n",
    "embedding2 = Embedding(df.movieId.max()+1, EMBEDDING_SIZE, input_length=1, name='movieId_Embedding')(inputs2)\n",
    "\n",
    "c = Concatenate()([embedding1, embedding2])\n",
    "x = Dense(32, activation='relu', name='relu1')(c)\n",
    "x = Dense(16, activation='relu', name='relu2')(x)\n",
    "y = Dense(1, activation='linear' ,name='output')(x)\n",
    "\n",
    "model = Model(inputs=[inputs1, inputs2], outputs=y, name='DL_Recommender')\n",
    "model.compile(\n",
    "    optimizer=keras.optimizers.Adam(learning_rate=0.0001),\n",
    "    loss='MSE',\n",
    "    metrics=['MAE']\n",
    "    )\n",
    "\n",
    "model.summary()"
   ]
  },
  {
   "cell_type": "code",
   "execution_count": 261,
   "id": "06a1468a",
   "metadata": {
    "scrolled": true
   },
   "outputs": [
    {
     "name": "stdout",
     "output_type": "stream",
     "text": [
      "Epoch 1/30\n",
      "284/284 [==============================] - 3s 10ms/step - loss: 1.0889 - MAE: 0.8296 - val_loss: 1.0223 - val_MAE: 0.8014\n",
      "Epoch 2/30\n",
      "284/284 [==============================] - 3s 11ms/step - loss: 1.0522 - MAE: 0.8160 - val_loss: 0.9704 - val_MAE: 0.7817\n",
      "Epoch 3/30\n",
      "284/284 [==============================] - 3s 10ms/step - loss: 0.9520 - MAE: 0.7700 - val_loss: 0.8992 - val_MAE: 0.7434\n",
      "Epoch 4/30\n",
      "284/284 [==============================] - 3s 9ms/step - loss: 0.8390 - MAE: 0.7100 - val_loss: 0.8832 - val_MAE: 0.7368\n",
      "Epoch 5/30\n",
      "284/284 [==============================] - 3s 10ms/step - loss: 0.7719 - MAE: 0.6775 - val_loss: 0.8970 - val_MAE: 0.7460\n",
      "Epoch 6/30\n",
      "284/284 [==============================] - 2s 9ms/step - loss: 0.7346 - MAE: 0.6589 - val_loss: 0.9097 - val_MAE: 0.7520\n",
      "Epoch 7/30\n",
      "284/284 [==============================] - 2s 9ms/step - loss: 0.7109 - MAE: 0.6468 - val_loss: 0.9195 - val_MAE: 0.7554\n",
      "Epoch 8/30\n",
      "284/284 [==============================] - 3s 11ms/step - loss: 0.6939 - MAE: 0.6378 - val_loss: 0.9319 - val_MAE: 0.7613\n",
      "Epoch 9/30\n",
      "284/284 [==============================] - 3s 9ms/step - loss: 0.6815 - MAE: 0.6314 - val_loss: 0.9476 - val_MAE: 0.7698\n",
      "Epoch 10/30\n",
      "284/284 [==============================] - 3s 10ms/step - loss: 0.6717 - MAE: 0.6265 - val_loss: 0.9556 - val_MAE: 0.7730\n",
      "Epoch 11/30\n",
      "284/284 [==============================] - 3s 9ms/step - loss: 0.6639 - MAE: 0.6221 - val_loss: 0.9711 - val_MAE: 0.7810\n",
      "Epoch 12/30\n",
      "284/284 [==============================] - 3s 9ms/step - loss: 0.6577 - MAE: 0.6191 - val_loss: 0.9683 - val_MAE: 0.7771\n",
      "Epoch 13/30\n",
      "284/284 [==============================] - 2s 9ms/step - loss: 0.6525 - MAE: 0.6161 - val_loss: 0.9791 - val_MAE: 0.7828\n",
      "Epoch 14/30\n",
      "284/284 [==============================] - 3s 10ms/step - loss: 0.6480 - MAE: 0.6138 - val_loss: 0.9872 - val_MAE: 0.7865\n",
      "Epoch 15/30\n",
      "284/284 [==============================] - 3s 9ms/step - loss: 0.6443 - MAE: 0.6120 - val_loss: 0.9979 - val_MAE: 0.7918\n",
      "Epoch 16/30\n",
      "284/284 [==============================] - 3s 10ms/step - loss: 0.6411 - MAE: 0.6101 - val_loss: 0.9983 - val_MAE: 0.7909\n",
      "Epoch 17/30\n",
      "284/284 [==============================] - 3s 9ms/step - loss: 0.6382 - MAE: 0.6085 - val_loss: 1.0054 - val_MAE: 0.7942\n",
      "Epoch 18/30\n",
      "284/284 [==============================] - 3s 9ms/step - loss: 0.6359 - MAE: 0.6071 - val_loss: 1.0091 - val_MAE: 0.7953\n",
      "Epoch 19/30\n",
      "284/284 [==============================] - 3s 10ms/step - loss: 0.6337 - MAE: 0.6059 - val_loss: 1.0069 - val_MAE: 0.7934\n",
      "Epoch 20/30\n",
      "284/284 [==============================] - 3s 10ms/step - loss: 0.6317 - MAE: 0.6045 - val_loss: 1.0176 - val_MAE: 0.7990\n",
      "Epoch 21/30\n",
      "284/284 [==============================] - 3s 9ms/step - loss: 0.6300 - MAE: 0.6038 - val_loss: 1.0207 - val_MAE: 0.8000\n",
      "Epoch 22/30\n",
      "284/284 [==============================] - 3s 9ms/step - loss: 0.6284 - MAE: 0.6026 - val_loss: 1.0227 - val_MAE: 0.8006\n",
      "Epoch 23/30\n",
      "284/284 [==============================] - 3s 10ms/step - loss: 0.6269 - MAE: 0.6017 - val_loss: 1.0268 - val_MAE: 0.8024\n",
      "Epoch 24/30\n",
      "284/284 [==============================] - 3s 9ms/step - loss: 0.6254 - MAE: 0.6008 - val_loss: 1.0296 - val_MAE: 0.8033\n",
      "Epoch 25/30\n",
      "284/284 [==============================] - 3s 10ms/step - loss: 0.6242 - MAE: 0.6001 - val_loss: 1.0310 - val_MAE: 0.8038\n",
      "Epoch 26/30\n",
      "284/284 [==============================] - 2s 9ms/step - loss: 0.6231 - MAE: 0.5993 - val_loss: 1.0326 - val_MAE: 0.8042\n",
      "Epoch 27/30\n",
      "284/284 [==============================] - 3s 9ms/step - loss: 0.6219 - MAE: 0.5986 - val_loss: 1.0351 - val_MAE: 0.8053\n",
      "Epoch 28/30\n",
      "284/284 [==============================] - 3s 9ms/step - loss: 0.6209 - MAE: 0.5980 - val_loss: 1.0337 - val_MAE: 0.8039\n",
      "Epoch 29/30\n",
      "284/284 [==============================] - 3s 9ms/step - loss: 0.6200 - MAE: 0.5973 - val_loss: 1.0386 - val_MAE: 0.8063\n",
      "Epoch 30/30\n",
      "284/284 [==============================] - 2s 9ms/step - loss: 0.6191 - MAE: 0.5967 - val_loss: 1.0384 - val_MAE: 0.8054\n"
     ]
    }
   ],
   "source": [
    "history = model.fit(x=[trainf_X.userId, trainf_X.movieId], y=trainf_y, epochs=30, validation_split=.1, batch_size=BATCH_SIZE)"
   ]
  },
  {
   "cell_type": "code",
   "execution_count": 262,
   "id": "d4ff53b1",
   "metadata": {},
   "outputs": [
    {
     "data": {
      "text/plain": [
       "[<matplotlib.lines.Line2D at 0x221fb300160>]"
      ]
     },
     "execution_count": 262,
     "metadata": {},
     "output_type": "execute_result"
    },
    {
     "data": {
      "image/png": "[encoded data removed]",
      "text/plain": [
       "<Figure size 432x288 with 1 Axes>"
      ]
     },
     "metadata": {
      "needs_background": "light"
     },
     "output_type": "display_data"
    }
   ],
   "source": [
    "plt.plot([i for i in range(1, EPOCHS+1)], history.history['loss'])\n",
    "plt.plot([i for i in range(1, EPOCHS+1)], history.history['val_loss'])"
   ]
  },
  {
   "cell_type": "code",
   "execution_count": 263,
   "id": "12567553",
   "metadata": {},
   "outputs": [
    {
     "data": {
      "text/plain": [
       "[<matplotlib.lines.Line2D at 0x2218cbb1b80>]"
      ]
     },
     "execution_count": 263,
     "metadata": {},
     "output_type": "execute_result"
    },
    {
     "data": {
      "image/png": "[encoded data removed]",
      "text/plain": [
       "<Figure size 432x288 with 1 Axes>"
      ]
     },
     "metadata": {
      "needs_background": "light"
     },
     "output_type": "display_data"
    }
   ],
   "source": [
    "plt.plot([i for i in range(1, EPOCHS+1)], history.history['MAE'])\n",
    "plt.plot([i for i in range(1, EPOCHS+1)], history.history['val_MAE'])"
   ]
  },
  {
   "cell_type": "markdown",
   "id": "1fd694bc",
   "metadata": {},
   "source": [
    "### 4 epochs seems to be ideal"
   ]
  },
  {
   "cell_type": "code",
   "execution_count": 264,
   "id": "ed22285b",
   "metadata": {},
   "outputs": [],
   "source": [
    "model_final = Model(inputs=[inputs1, inputs2], outputs=y)\n",
    "model_final.compile(\n",
    "    optimizer=keras.optimizers.Adam(learning_rate=0.001),\n",
    "    loss='MSE',\n",
    "    metrics=['MAE']\n",
    ")"
   ]
  },
  {
   "cell_type": "code",
   "execution_count": 265,
   "id": "aea737c7",
   "metadata": {},
   "outputs": [
    {
     "name": "stdout",
     "output_type": "stream",
     "text": [
      "Epoch 1/15\n",
      "316/316 [==============================] - 3s 10ms/step - loss: 0.6829 - MAE: 0.6303\n",
      "Epoch 2/15\n",
      "316/316 [==============================] - 3s 9ms/step - loss: 0.6572 - MAE: 0.6178A: 0s - loss: 0.6512\n",
      "Epoch 3/15\n",
      "316/316 [==============================] - 3s 9ms/step - loss: 0.6404 - MAE: 0.6098\n",
      "Epoch 4/15\n",
      "316/316 [==============================] - 3s 9ms/step - loss: 0.6276 - MAE: 0.6019\n",
      "Epoch 5/15\n",
      "316/316 [==============================] - 3s 8ms/step - loss: 0.6161 - MAE: 0.5958\n",
      "Epoch 6/15\n",
      "316/316 [==============================] - 3s 9ms/step - loss: 0.6043 - MAE: 0.5891\n",
      "Epoch 7/15\n",
      "316/316 [==============================] - 3s 9ms/step - loss: 0.5925 - MAE: 0.5829\n",
      "Epoch 8/15\n",
      "316/316 [==============================] - 3s 10ms/step - loss: 0.5798 - MAE: 0.5756\n",
      "Epoch 9/15\n",
      "316/316 [==============================] - 3s 9ms/step - loss: 0.5678 - MAE: 0.5694\n",
      "Epoch 10/15\n",
      "316/316 [==============================] - 3s 8ms/step - loss: 0.5557 - MAE: 0.5622\n",
      "Epoch 11/15\n",
      "316/316 [==============================] - 3s 8ms/step - loss: 0.5427 - MAE: 0.5557\n",
      "Epoch 12/15\n",
      "316/316 [==============================] - 3s 8ms/step - loss: 0.5306 - MAE: 0.5485\n",
      "Epoch 13/15\n",
      "316/316 [==============================] - 3s 8ms/step - loss: 0.5197 - MAE: 0.5423\n",
      "Epoch 14/15\n",
      "316/316 [==============================] - 3s 8ms/step - loss: 0.5085 - MAE: 0.5357\n",
      "Epoch 15/15\n",
      "316/316 [==============================] - 3s 8ms/step - loss: 0.4992 - MAE: 0.5299\n"
     ]
    }
   ],
   "source": [
    "history = model_final.fit(x=[trainf_X.userId, trainf_X.movieId], y=trainf_y, epochs=15, batch_size=BATCH_SIZE)"
   ]
  },
  {
   "cell_type": "code",
   "execution_count": 266,
   "id": "cab03b1d",
   "metadata": {},
   "outputs": [],
   "source": [
    "y_pred = model_final.predict([test_X.userId, test_X.movieId])"
   ]
  },
  {
   "cell_type": "code",
   "execution_count": 267,
   "id": "5c6c6c7e",
   "metadata": {},
   "outputs": [],
   "source": [
    "y_pred = y_pred.reshape(len(y_pred),)"
   ]
  },
  {
   "cell_type": "code",
   "execution_count": 268,
   "id": "c72a4a3b",
   "metadata": {},
   "outputs": [
    {
     "data": {
      "text/plain": [
       "0.8090256476816976"
      ]
     },
     "execution_count": 268,
     "metadata": {},
     "output_type": "execute_result"
    }
   ],
   "source": [
    "mean_absolute_error(test_y, y_pred)"
   ]
  },
  {
   "cell_type": "markdown",
   "id": "836bfa24",
   "metadata": {},
   "source": [
    "### We can also treat the problem as classification!"
   ]
  },
  {
   "cell_type": "code",
   "execution_count": 269,
   "id": "bc8889e0",
   "metadata": {},
   "outputs": [],
   "source": [
    "N_TEST = round(len(df) * .2)   # 20% for test\n",
    "trainf, test = df.iloc[N_TEST:, :], df.iloc[:N_TEST, :]\n",
    "le = LabelEncoder()\n",
    "trainf_X, trainf_y = trainf.iloc[:,:-1], trainf.iloc[:,-1]\n",
    "trainf_y = le.fit_transform(trainf_y)\n",
    "test_X, test_y = test.iloc[:,:-1], test.iloc[:,-1]\n",
    "test_y = le.transform(test_y)"
   ]
  },
  {
   "cell_type": "code",
   "execution_count": 270,
   "id": "dcef286b",
   "metadata": {},
   "outputs": [
    {
     "name": "stdout",
     "output_type": "stream",
     "text": [
      "Model: \"DL_Recommender\"\n",
      "__________________________________________________________________________________________________\n",
      "Layer (type)                    Output Shape         Param #     Connected to                     \n",
      "==================================================================================================\n",
      "userId (InputLayer)             [(None, 1)]          0                                            \n",
      "__________________________________________________________________________________________________\n",
      "movieId (InputLayer)            [(None, 1)]          0                                            \n",
      "__________________________________________________________________________________________________\n",
      "userId_Embedding (Embedding)    (None, 1, 5)         3055        userId[0][0]                     \n",
      "__________________________________________________________________________________________________\n",
      "movieId_Embedding (Embedding)   (None, 1, 5)         968050      movieId[0][0]                    \n",
      "__________________________________________________________________________________________________\n",
      "concatenate_22 (Concatenate)    (None, 1, 10)        0           userId_Embedding[0][0]           \n",
      "                                                                 movieId_Embedding[0][0]          \n",
      "__________________________________________________________________________________________________\n",
      "relu1 (Dense)                   (None, 1, 32)        352         concatenate_22[0][0]             \n",
      "__________________________________________________________________________________________________\n",
      "relu2 (Dense)                   (None, 1, 16)        528         relu1[0][0]                      \n",
      "__________________________________________________________________________________________________\n",
      "output (Dense)                  (None, 1, 10)        170         relu2[0][0]                      \n",
      "==================================================================================================\n",
      "Total params: 972,155\n",
      "Trainable params: 972,155\n",
      "Non-trainable params: 0\n",
      "__________________________________________________________________________________________________\n"
     ]
    }
   ],
   "source": [
    "inputs1 = Input(shape=(1,), name='userId') # userId\n",
    "inputs2 = Input(shape=(1,), name='movieId') # movieId\n",
    "\n",
    "embedding1 = Embedding(df.userId.max()+1, EMBEDDING_SIZE, input_length=1, name='userId_Embedding')(inputs1)\n",
    "embedding2 = Embedding(df.movieId.max()+1, EMBEDDING_SIZE, input_length=1, name='movieId_Embedding')(inputs2)\n",
    "\n",
    "c = Concatenate()([embedding1, embedding2])\n",
    "x = Dense(32, activation='relu', name='relu1')(c)\n",
    "x = Dense(16, activation='relu', name='relu2')(x)\n",
    "y = Dense(N_OUTPUTS, activation='softmax' ,name='output')(x)\n",
    "\n",
    "model = Model(inputs=[inputs1, inputs2], outputs=y, name='DL_Recommender')\n",
    "model.compile(\n",
    "    optimizer=keras.optimizers.Adam(learning_rate=0.0001),\n",
    "    loss='sparse_categorical_crossentropy',\n",
    "    metrics=['acc']\n",
    "    )\n",
    "\n",
    "model.summary()"
   ]
  },
  {
   "cell_type": "code",
   "execution_count": 271,
   "id": "e85f40af",
   "metadata": {
    "scrolled": true
   },
   "outputs": [
    {
     "name": "stdout",
     "output_type": "stream",
     "text": [
      "Epoch 1/30\n",
      "284/284 [==============================] - 3s 10ms/step - loss: 2.2741 - acc: 0.2234 - val_loss: 2.2336 - val_acc: 0.2402\n",
      "Epoch 2/30\n",
      "284/284 [==============================] - 3s 10ms/step - loss: 2.1731 - acc: 0.2503 - val_loss: 2.0987 - val_acc: 0.2666\n",
      "Epoch 3/30\n",
      "284/284 [==============================] - 2s 9ms/step - loss: 2.0556 - acc: 0.2670 - val_loss: 2.0150 - val_acc: 0.2681\n",
      "Epoch 4/30\n",
      "284/284 [==============================] - 2s 9ms/step - loss: 1.9989 - acc: 0.2670 - val_loss: 1.9799 - val_acc: 0.2681\n",
      "Epoch 5/30\n",
      "284/284 [==============================] - 3s 10ms/step - loss: 1.9645 - acc: 0.2674 - val_loss: 1.9558 - val_acc: 0.2705\n",
      "Epoch 6/30\n",
      "284/284 [==============================] - 3s 9ms/step - loss: 1.9330 - acc: 0.2695 - val_loss: 1.9349 - val_acc: 0.2704\n",
      "Epoch 7/30\n",
      "284/284 [==============================] - 3s 9ms/step - loss: 1.9007 - acc: 0.2769 - val_loss: 1.9145 - val_acc: 0.2764\n",
      "Epoch 8/30\n",
      "284/284 [==============================] - 3s 9ms/step - loss: 1.8689 - acc: 0.2872 - val_loss: 1.8983 - val_acc: 0.2767\n",
      "Epoch 9/30\n",
      "284/284 [==============================] - 3s 10ms/step - loss: 1.8394 - acc: 0.2942 - val_loss: 1.8854 - val_acc: 0.2762\n",
      "Epoch 10/30\n",
      "284/284 [==============================] - 2s 9ms/step - loss: 1.8132 - acc: 0.3023 - val_loss: 1.8763 - val_acc: 0.2764\n",
      "Epoch 11/30\n",
      "284/284 [==============================] - 2s 9ms/step - loss: 1.7902 - acc: 0.3077 - val_loss: 1.8700 - val_acc: 0.2774\n",
      "Epoch 12/30\n",
      "284/284 [==============================] - 2s 8ms/step - loss: 1.7700 - acc: 0.3143 - val_loss: 1.8666 - val_acc: 0.2795\n",
      "Epoch 13/30\n",
      "284/284 [==============================] - 2s 9ms/step - loss: 1.7521 - acc: 0.3207 - val_loss: 1.8642 - val_acc: 0.2819\n",
      "Epoch 14/30\n",
      "284/284 [==============================] - 3s 9ms/step - loss: 1.7356 - acc: 0.3267 - val_loss: 1.8622 - val_acc: 0.2833\n",
      "Epoch 15/30\n",
      "284/284 [==============================] - 2s 9ms/step - loss: 1.7198 - acc: 0.3342 - val_loss: 1.8612 - val_acc: 0.2840\n",
      "Epoch 16/30\n",
      "284/284 [==============================] - 3s 9ms/step - loss: 1.7042 - acc: 0.3419 - val_loss: 1.8575 - val_acc: 0.2865\n",
      "Epoch 17/30\n",
      "284/284 [==============================] - 2s 9ms/step - loss: 1.6884 - acc: 0.3486 - val_loss: 1.8533 - val_acc: 0.2913\n",
      "Epoch 18/30\n",
      "284/284 [==============================] - 2s 9ms/step - loss: 1.6719 - acc: 0.3558 - val_loss: 1.8486 - val_acc: 0.2952\n",
      "Epoch 19/30\n",
      "284/284 [==============================] - 2s 9ms/step - loss: 1.6551 - acc: 0.3639 - val_loss: 1.8440 - val_acc: 0.2980\n",
      "Epoch 20/30\n",
      "284/284 [==============================] - 2s 8ms/step - loss: 1.6382 - acc: 0.3722 - val_loss: 1.8386 - val_acc: 0.2971\n",
      "Epoch 21/30\n",
      "284/284 [==============================] - 3s 9ms/step - loss: 1.6219 - acc: 0.3776 - val_loss: 1.8318 - val_acc: 0.2987\n",
      "Epoch 22/30\n",
      "284/284 [==============================] - 2s 8ms/step - loss: 1.6069 - acc: 0.3824 - val_loss: 1.8288 - val_acc: 0.2964\n",
      "Epoch 23/30\n",
      "284/284 [==============================] - 2s 9ms/step - loss: 1.5934 - acc: 0.3873 - val_loss: 1.8226 - val_acc: 0.2981\n",
      "Epoch 24/30\n",
      "284/284 [==============================] - 3s 11ms/step - loss: 1.5814 - acc: 0.3900 - val_loss: 1.8212 - val_acc: 0.2979\n",
      "Epoch 25/30\n",
      "284/284 [==============================] - 3s 9ms/step - loss: 1.5709 - acc: 0.3926 - val_loss: 1.8215 - val_acc: 0.2974\n",
      "Epoch 26/30\n",
      "284/284 [==============================] - 3s 9ms/step - loss: 1.5617 - acc: 0.3944 - val_loss: 1.8214 - val_acc: 0.2971\n",
      "Epoch 27/30\n",
      "284/284 [==============================] - 2s 9ms/step - loss: 1.5535 - acc: 0.3966 - val_loss: 1.8209 - val_acc: 0.2945\n",
      "Epoch 28/30\n",
      "284/284 [==============================] - 3s 9ms/step - loss: 1.5464 - acc: 0.3985 - val_loss: 1.8241 - val_acc: 0.2929\n",
      "Epoch 29/30\n",
      "284/284 [==============================] - 2s 9ms/step - loss: 1.5399 - acc: 0.4003 - val_loss: 1.8249 - val_acc: 0.2909\n",
      "Epoch 30/30\n",
      "284/284 [==============================] - 3s 9ms/step - loss: 1.5340 - acc: 0.4019 - val_loss: 1.8293 - val_acc: 0.2903\n"
     ]
    }
   ],
   "source": [
    "history = model.fit(x=[trainf_X.userId, trainf_X.movieId], y=trainf_y, epochs=30, validation_split=.1, batch_size=BATCH_SIZE)"
   ]
  },
  {
   "cell_type": "code",
   "execution_count": 272,
   "id": "9f92a9fd",
   "metadata": {},
   "outputs": [
    {
     "data": {
      "text/plain": [
       "[<matplotlib.lines.Line2D at 0x22188db5070>]"
      ]
     },
     "execution_count": 272,
     "metadata": {},
     "output_type": "execute_result"
    },
    {
     "data": {
      "image/png": "[encoded data removed]",
      "text/plain": [
       "<Figure size 432x288 with 1 Axes>"
      ]
     },
     "metadata": {
      "needs_background": "light"
     },
     "output_type": "display_data"
    }
   ],
   "source": [
    "plt.plot([i for i in range(1, EPOCHS+1)], history.history['loss'])\n",
    "plt.plot([i for i in range(1, EPOCHS+1)], history.history['val_loss'])"
   ]
  },
  {
   "cell_type": "code",
   "execution_count": 273,
   "id": "ad52016c",
   "metadata": {},
   "outputs": [
    {
     "data": {
      "text/plain": [
       "[<matplotlib.lines.Line2D at 0x2218e19e640>]"
      ]
     },
     "execution_count": 273,
     "metadata": {},
     "output_type": "execute_result"
    },
    {
     "data": {
      "image/png": "[encoded data removed]",
      "text/plain": [
       "<Figure size 432x288 with 1 Axes>"
      ]
     },
     "metadata": {
      "needs_background": "light"
     },
     "output_type": "display_data"
    }
   ],
   "source": [
    "plt.plot([i for i in range(1, EPOCHS+1)], history.history['acc'])\n",
    "plt.plot([i for i in range(1, EPOCHS+1)], history.history['val_acc'])"
   ]
  },
  {
   "cell_type": "code",
   "execution_count": 274,
   "id": "d19e55c5",
   "metadata": {},
   "outputs": [],
   "source": [
    "model_final = Model(inputs=[inputs1, inputs2], outputs=y)\n",
    "model_final.compile(\n",
    "    optimizer=keras.optimizers.Adam(learning_rate=0.0001),\n",
    "     loss='sparse_categorical_crossentropy',\n",
    "    metrics=['acc', 'MAE']\n",
    ")"
   ]
  },
  {
   "cell_type": "code",
   "execution_count": 275,
   "id": "95bf2ea2",
   "metadata": {},
   "outputs": [
    {
     "name": "stdout",
     "output_type": "stream",
     "text": [
      "Epoch 1/4\n",
      "316/316 [==============================] - 3s 9ms/step - loss: 1.5696 - acc: 0.3834 - MAE: 5.9191\n",
      "Epoch 2/4\n",
      "316/316 [==============================] - 3s 10ms/step - loss: 1.5375 - acc: 0.3936 - MAE: 5.9197\n",
      "Epoch 3/4\n",
      "316/316 [==============================] - 4s 11ms/step - loss: 1.5167 - acc: 0.4031 - MAE: 5.9194\n",
      "Epoch 4/4\n",
      "316/316 [==============================] - 3s 11ms/step - loss: 1.4983 - acc: 0.4099 - MAE: 5.9194\n"
     ]
    }
   ],
   "source": [
    "history = model_final.fit(x=[trainf_X.userId, trainf_X.movieId], y=trainf_y, epochs=4, batch_size=BATCH_SIZE)"
   ]
  },
  {
   "cell_type": "code",
   "execution_count": 276,
   "id": "50ad95a2",
   "metadata": {},
   "outputs": [
    {
     "data": {
      "text/plain": [
       "(0.2718302176823524, 0.846283532503595)"
      ]
     },
     "execution_count": 276,
     "metadata": {},
     "output_type": "execute_result"
    }
   ],
   "source": [
    "from sklearn.metrics import accuracy_score\n",
    "y_pred = np.argmax(model_final.predict([test_X.userId, test_X.movieId]), axis=-1)\n",
    "y_pred = y_pred.reshape(len(y_pred),)\n",
    "\n",
    "accuracy_score(test_y, y_pred), mean_absolute_error(le.inverse_transform(test_y), le.inverse_transform(y_pred))"
   ]
  },
  {
   "cell_type": "code",
   "execution_count": 277,
   "id": "03aacc21",
   "metadata": {},
   "outputs": [
    {
     "data": {
      "text/plain": [
       "10"
      ]
     },
     "execution_count": 277,
     "metadata": {},
     "output_type": "execute_result"
    }
   ],
   "source": [
    "N_OUTPUTS"
   ]
  },
  {
   "cell_type": "code",
   "execution_count": 278,
   "id": "dfeaf365",
   "metadata": {},
   "outputs": [
    {
     "data": {
      "text/plain": [
       "array([[7],\n",
       "       [6],\n",
       "       [5],\n",
       "       ...,\n",
       "       [9],\n",
       "       [9],\n",
       "       [7]], dtype=int64)"
      ]
     },
     "execution_count": 278,
     "metadata": {},
     "output_type": "execute_result"
    }
   ],
   "source": [
    "np.argmax(model_final.predict([test_X.userId, test_X.movieId]), axis=-1)"
   ]
  },
  {
   "cell_type": "code",
   "execution_count": 279,
   "id": "1cc4f96b",
   "metadata": {},
   "outputs": [
    {
     "data": {
      "text/plain": [
       "(array([7, 6, 5, ..., 9, 9, 7], dtype=int64),\n",
       " array([5, 5, 4, ..., 7, 9, 8], dtype=int64))"
      ]
     },
     "execution_count": 279,
     "metadata": {},
     "output_type": "execute_result"
    }
   ],
   "source": [
    "y_pred, test_y"
   ]
  },
  {
   "cell_type": "code",
   "execution_count": null,
   "id": "e876ba8d",
   "metadata": {},
   "outputs": [],
   "source": []
  }
 ],
 "metadata": {
  "kernelspec": {
   "display_name": "Python 3 (ipykernel)",
   "language": "python",
   "name": "python3"
  },
  "language_info": {
   "codemirror_mode": {
    "name": "ipython",
    "version": 3
   },
   "file_extension": ".py",
   "mimetype": "text/x-python",
   "name": "python",
   "nbconvert_exporter": "python",
   "pygments_lexer": "ipython3",
   "version": "3.8.8"
  }
 },
 "nbformat": 4,
 "nbformat_minor": 5
}
